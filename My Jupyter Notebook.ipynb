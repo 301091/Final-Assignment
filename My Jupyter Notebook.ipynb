{
  "metadata": {
    "kernelspec": {
      "name": "python",
      "display_name": "Pyolite",
      "language": "python"
    },
    "language_info": {
      "codemirror_mode": {
        "name": "python",
        "version": 3
      },
      "file_extension": ".py",
      "mimetype": "text/x-python",
      "name": "python",
      "nbconvert_exporter": "python",
      "pygments_lexer": "ipython3",
      "version": "3.8"
    }
  },
  "nbformat_minor": 4,
  "nbformat": 4,
  "cells": [
    {
      "cell_type": "markdown",
      "source": "<center>\n    <img src=\"https://cf-courses-data.s3.us.cloud-object-storage.appdomain.cloud/IBMDeveloperSkillsNetwork-DS0105EN-SkillsNetwork/labs/Module2/images/SN_web_lightmode.png\" width=\"300\" alt=\"cognitiveclass.ai logo\"  />\n</center>\n",
      "metadata": {}
    },
    {
      "cell_type": "markdown",
      "source": "#### Add your code below following the instructions given in the course\n",
      "metadata": {}
    },
    {
      "cell_type": "markdown",
      "source": "# My Jupyter Notebook on IBM Watson Studio",
      "metadata": {}
    },
    {
      "cell_type": "markdown",
      "source": "**Mario** **Humberto** **Gonzalez** **Avila**\n\nIngeniero Químico",
      "metadata": {}
    },
    {
      "cell_type": "markdown",
      "source": "*I want to learn Data Science because I want to perform models to solve problems and process optimization on pharmaceutical industry.*\n*I want to learn Data Science because I like find solutions doing the interpretintg of data.*",
      "metadata": {}
    },
    {
      "cell_type": "markdown",
      "source": "### My code calculates the area of a rectangle that have 5 of lenght and 8 of width",
      "metadata": {}
    },
    {
      "cell_type": "code",
      "source": "5*8",
      "metadata": {
        "trusted": true
      },
      "execution_count": 7,
      "outputs": [
        {
          "execution_count": 7,
          "output_type": "execute_result",
          "data": {
            "text/plain": "40"
          },
          "metadata": {}
        }
      ]
    },
    {
      "cell_type": "markdown",
      "source": "Possible World Champion\n1. Portugal \n2. Brasil\n3. Argentina\n\n![alt text](https://th.bing.com/th/id/R.1ce881158fb1e87db72df8948a045cbb?rik=oNa%2bhL%2fpziWBdw&pid=ImgRaw&r=0 \"Portugal\")\n\n\n|Team     |Points     | Qualify     |\n|---------|-----------|-------------|\n|Brasil   |  9        | Yes         |\n|Spain    |  4        | Yes         |\n|México   |  4        | No          |\n",
      "metadata": {}
    },
    {
      "cell_type": "code",
      "source": "",
      "metadata": {},
      "execution_count": null,
      "outputs": []
    }
  ]
}